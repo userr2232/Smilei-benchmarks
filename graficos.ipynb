{
  "nbformat": 4,
  "nbformat_minor": 0,
  "metadata": {
    "colab": {
      "name": "Copy of Plasma Collision performance",
      "provenance": []
    },
    "kernelspec": {
      "name": "python3",
      "display_name": "Python 3"
    },
    "language_info": {
      "name": "python"
    }
  },
  "cells": [
    {
      "cell_type": "code",
      "metadata": {
        "id": "nYBJB5WerVHT"
      },
      "source": [
        "import happi\n",
        "import os\n",
        "from base64 import b64encode\n",
        "from IPython.display import HTML\n",
        "import asyncio\n",
        "import subprocess\n",
        "from pathlib import Path\n",
        "import numpy as np\n",
        "from matplotlib import pyplot as plt"
      ],
      "execution_count": null,
      "outputs": []
    },
    {
      "cell_type": "code",
      "metadata": {
        "colab": {
          "base_uri": "https://localhost:8080/"
        },
        "id": "GHhbSUUEslKN",
        "outputId": "ec3dd087-9a2b-45e5-8f61-6fabf916c9ae"
      },
      "source": [
        "%cd C:/Users/fucce/Desktop/CPD/1proceso/Smilei-benchmarks-main"
      ],
      "execution_count": null,
      "outputs": [
        {
          "output_type": "stream",
          "text": [
            "C:\\Users\\fucce\\Desktop\\CPD\\1proceso\\Smilei-benchmarks-main\n"
          ],
          "name": "stdout"
        }
      ]
    },
    {
      "cell_type": "code",
      "metadata": {
        "id": "huxPxPJroDcy"
      },
      "source": [
        "class CFG:\n",
        "    TIMESTEPS = 2250\n",
        "    FLOPS = lambda p: (14574*p+26411)*CFG.TIMESTEPS\n",
        "    ROOT_PATH = Path.cwd()\n",
        "    other_quantities = [ f\"number_of_{q}\" for q in [\"cells\", \"particles\", \"frozen_particles\"] ]\n",
        "    timers = [ f\"timer_{x}\" for x in [ \"global\", \"particles\", \"maxwell\", \n",
        "                                      \"densities\", \"collisions\", \"movWindow\", \"loadBal\",\n",
        "                                      \"syncPart\", \"syncField\", \"syncDens\", \"diags\", \"total\"] ]\n",
        "    dirs = [ Path(f\"plasma_collision_{idx}\") for idx in np.arange(1,5) ]\n",
        "    procs =[1]+ [ 1<<i for i in np.arange(2,6) ] \n",
        "    subdirs = [ Path(f\"{idx}_procs\") for idx in procs ]"
      ],
      "execution_count": null,
      "outputs": []
    },
    {
      "cell_type": "code",
      "metadata": {
        "id": "xoMU_qeppe9M"
      },
      "source": [
        "def general_plots(simulation, path):\n",
        "    vars = CFG.other_quantities + CFG.timers\n",
        "    for var in vars:\n",
        "        diag = S.Performances(raw=var)\n",
        "        timestep = diag.getTimesteps()[-1]\n",
        "        diag.plot(timestep=timestep, saveAs=f\"{path/var}.png\")"
      ],
      "execution_count": null,
      "outputs": []
    },
    {
      "cell_type": "code",
      "metadata": {
        "id": "pwzWsIT7P7Hf"
      },
      "source": [
        ""
      ],
      "execution_count": null,
      "outputs": []
    },
    {
      "cell_type": "code",
      "metadata": {
        "id": "ypiJSrwlqEIS"
      },
      "source": [
        "def strong_scaling_plots(path):\n",
        "    cores = CFG.procs\n",
        "    execution_times = []\n",
        "    execution_times1 = []\n",
        "    speeds = []\n",
        "    speeds1 = []\n",
        "    i=0\n",
        "    for subd in CFG.subdirs:\n",
        "        S = happi.Open(str(path/subd))\n",
        "        diag = S.Performances(raw=\"number_of_particles\")\n",
        "        p = diag.getData(0)[0].sum()\n",
        "        diag = S.Performances(raw=\"timer_global\")\n",
        "        timestep = diag.getTimesteps()[-1]\n",
        "        execution_time = diag.getData(timestep)[0][0]\n",
        "        execution_times += [execution_time]\n",
        "        execution_times1 += [(execution_times[0]/(execution_time))/cores[i]]\n",
        "        FLOPS = CFG.FLOPS(p)\n",
        "        speeds += [ FLOPS / execution_time ]\n",
        "        speeds1 += [speeds[0]/(FLOPS / execution_time)]\n",
        "        i+=1\n",
        "\n",
        "        print(execution_times1)\n",
        "    y=[0.4*i for i in range(32)]\n",
        "    plt.plot(cores, execution_times1)\n",
        "    plt.xlabel('Cores')\n",
        "    plt.ylabel('Execution time (s)')\n",
        "    plt.savefig(path / \"ef-cores_vs_exectime.png\",dpi=2000)\n",
        "    plt.show()\n",
        "    plt.plot(cores, speeds)\n",
        "    plt.xlabel('Cores')\n",
        "    plt.ylabel('Speed')\n",
        "    plt.savefig(path / \"ss-cores_vs_speed.png\")\n",
        "    plt.show()"
      ],
      "execution_count": null,
      "outputs": []
    },
    {
      "cell_type": "code",
      "metadata": {
        "id": "PD4oL2BZC0GP"
      },
      "source": [
        "#strong_scaling_plots(CFG.dirs[0])"
      ],
      "execution_count": null,
      "outputs": []
    },
    {
      "cell_type": "code",
      "metadata": {
        "id": "Xqua_x4NqIOn"
      },
      "source": [
        "def weak_scaling_plots():\n",
        "    cores = CFG.procs\n",
        "    execution_times = []\n",
        "    speeds = []\n",
        "    path = Path.cwd()\n",
        "    for idx in range(4):\n",
        "        S = happi.Open(str(path/CFG.dirs[idx]/CFG.subdirs[idx+1]))\n",
        "        diag = S.Performances(raw=\"number_of_particles\")\n",
        "        p = diag.getData(0)[0].sum()\n",
        "        diag = S.Performances(raw=\"timer_global\")\n",
        "        timestep = diag.getTimesteps()[-1]\n",
        "        execution_time = diag.getData(timestep)[0][0]\n",
        "        execution_times += [execution_time]\n",
        "        FLOPS = CFG.FLOPS(p)\n",
        "        speeds += [ FLOPS / execution_time ]\n",
        "    plt.plot(cores, execution_times)\n",
        "    plt.xlabel('Cores')\n",
        "    plt.ylabel('Execution time (s)')\n",
        "    plt.savefig(path / \"ws-cores_vs_exectime.png\",dpi=2200)\n",
        "    plt.show()\n",
        "    plt.plot(cores, speeds)\n",
        "    plt.xlabel('Cores')\n",
        "    plt.ylabel('Speed')\n",
        "    plt.savefig(path / \"ws-cores_vs_speed.png\",dpi=2200)\n",
        "    plt.show()"
      ],
      "execution_count": null,
      "outputs": []
    },
    {
      "cell_type": "code",
      "metadata": {
        "id": "RYWnz74IECgf"
      },
      "source": [
        "#weak_scaling_plots()"
      ],
      "execution_count": null,
      "outputs": []
    },
    {
      "cell_type": "code",
      "metadata": {
        "id": "AvMkcaT4n9Nm",
        "colab": {
          "base_uri": "https://localhost:8080/",
          "height": 1000
        },
        "outputId": "9cb4ae8f-9bd1-4ed2-90bd-4cf4cbacdef2"
      },
      "source": [
        "# %%capture\n",
        "#weak_scaling_plots()\n",
        "\n",
        "for d in CFG.dirs:\n",
        "    strong_scaling_plots(d)\n",
        "    for subd in CFG.subdirs:\n",
        "        cur_path = CFG.ROOT_PATH / d / subd\n",
        "        S = happi.Open(str(cur_path))\n",
        "        #general_plots(S, cur_path)\n"
      ],
      "execution_count": null,
      "outputs": [
        {
          "output_type": "stream",
          "text": [
            "Loaded simulation 'plasma_collision_1\\1_procs'\n",
            "Scanning for Scalar diagnostics\n",
            "Scanning for Field diagnostics\n",
            "Scanning for Probe diagnostics\n",
            "Scanning for ParticleBinning diagnostics\n",
            "Scanning for RadiationSpectrum diagnostics\n",
            "Scanning for Performance diagnostics\n",
            "Scanning for Screen diagnostics\n",
            "Scanning for Tracked particle diagnostics\n",
            "WARNING: units unknown: seconds\n",
            "[1.0]\n",
            "Loaded simulation 'plasma_collision_1\\4_procs'\n",
            "Scanning for Scalar diagnostics\n",
            "Scanning for Field diagnostics\n",
            "Scanning for Probe diagnostics\n",
            "Scanning for ParticleBinning diagnostics\n",
            "Scanning for RadiationSpectrum diagnostics\n",
            "Scanning for Performance diagnostics\n",
            "Scanning for Screen diagnostics\n",
            "Scanning for Tracked particle diagnostics\n",
            "WARNING: units unknown: seconds\n",
            "[1.0, 0.5735565479370845]\n",
            "Loaded simulation 'plasma_collision_1\\8_procs'\n",
            "Scanning for Scalar diagnostics\n",
            "Scanning for Field diagnostics\n",
            "Scanning for Probe diagnostics\n",
            "Scanning for ParticleBinning diagnostics\n",
            "Scanning for RadiationSpectrum diagnostics\n",
            "Scanning for Performance diagnostics\n",
            "Scanning for Screen diagnostics\n",
            "Scanning for Tracked particle diagnostics\n",
            "WARNING: units unknown: seconds\n",
            "[1.0, 0.5735565479370845, 0.42952261379695655]\n",
            "Loaded simulation 'plasma_collision_1\\16_procs'\n",
            "Scanning for Scalar diagnostics\n",
            "Scanning for Field diagnostics\n",
            "Scanning for Probe diagnostics\n",
            "Scanning for ParticleBinning diagnostics\n",
            "Scanning for RadiationSpectrum diagnostics\n",
            "Scanning for Performance diagnostics\n",
            "Scanning for Screen diagnostics\n",
            "Scanning for Tracked particle diagnostics\n",
            "WARNING: units unknown: seconds\n",
            "[1.0, 0.5735565479370845, 0.42952261379695655, 0.3462757455975426]\n",
            "Loaded simulation 'plasma_collision_1\\32_procs'\n",
            "Scanning for Scalar diagnostics\n",
            "Scanning for Field diagnostics\n",
            "Scanning for Probe diagnostics\n",
            "Scanning for ParticleBinning diagnostics\n",
            "Scanning for RadiationSpectrum diagnostics\n",
            "Scanning for Performance diagnostics\n",
            "Scanning for Screen diagnostics\n",
            "Scanning for Tracked particle diagnostics\n",
            "WARNING: units unknown: seconds\n",
            "[1.0, 0.5735565479370845, 0.42952261379695655, 0.3462757455975426, 0.3419327766559571]\n"
          ],
          "name": "stdout"
        },
        {
          "output_type": "display_data",
          "data": {
            "text/plain": [
              "<Figure size 432x288 with 1 Axes>"
            ],
            "image/png": "[encoded data removed]"
          },
          "metadata": {
            "tags": [],
            "needs_background": "light"
          }
        },
        {
          "output_type": "display_data",
          "data": {
            "text/plain": [
              "<Figure size 432x288 with 1 Axes>"
            ],
            "image/png": "[encoded data removed]"
          },
          "metadata": {
            "tags": [],
            "needs_background": "light"
          }
        },
        {
          "output_type": "stream",
          "text": [
            "Loaded simulation 'C:\\Users\\fucce\\Desktop\\CPD\\1proceso\\Smilei-benchmarks-main\\plasma_collision_1\\1_procs'\n",
            "Scanning for Scalar diagnostics\n",
            "Scanning for Field diagnostics\n",
            "Scanning for Probe diagnostics\n",
            "Scanning for ParticleBinning diagnostics\n",
            "Scanning for RadiationSpectrum diagnostics\n",
            "Scanning for Performance diagnostics\n",
            "Scanning for Screen diagnostics\n",
            "Scanning for Tracked particle diagnostics\n",
            "Loaded simulation 'C:\\Users\\fucce\\Desktop\\CPD\\1proceso\\Smilei-benchmarks-main\\plasma_collision_1\\4_procs'\n",
            "Scanning for Scalar diagnostics\n",
            "Scanning for Field diagnostics\n",
            "Scanning for Probe diagnostics\n",
            "Scanning for ParticleBinning diagnostics\n",
            "Scanning for RadiationSpectrum diagnostics\n",
            "Scanning for Performance diagnostics\n",
            "Scanning for Screen diagnostics\n",
            "Scanning for Tracked particle diagnostics\n",
            "Loaded simulation 'C:\\Users\\fucce\\Desktop\\CPD\\1proceso\\Smilei-benchmarks-main\\plasma_collision_1\\8_procs'\n",
            "Scanning for Scalar diagnostics\n",
            "Scanning for Field diagnostics\n",
            "Scanning for Probe diagnostics\n",
            "Scanning for ParticleBinning diagnostics\n",
            "Scanning for RadiationSpectrum diagnostics\n",
            "Scanning for Performance diagnostics\n",
            "Scanning for Screen diagnostics\n",
            "Scanning for Tracked particle diagnostics\n",
            "Loaded simulation 'C:\\Users\\fucce\\Desktop\\CPD\\1proceso\\Smilei-benchmarks-main\\plasma_collision_1\\16_procs'\n",
            "Scanning for Scalar diagnostics\n",
            "Scanning for Field diagnostics\n",
            "Scanning for Probe diagnostics\n",
            "Scanning for ParticleBinning diagnostics\n",
            "Scanning for RadiationSpectrum diagnostics\n",
            "Scanning for Performance diagnostics\n",
            "Scanning for Screen diagnostics\n",
            "Scanning for Tracked particle diagnostics\n",
            "Loaded simulation 'C:\\Users\\fucce\\Desktop\\CPD\\1proceso\\Smilei-benchmarks-main\\plasma_collision_1\\32_procs'\n",
            "Scanning for Scalar diagnostics\n",
            "Scanning for Field diagnostics\n",
            "Scanning for Probe diagnostics\n",
            "Scanning for ParticleBinning diagnostics\n",
            "Scanning for RadiationSpectrum diagnostics\n",
            "Scanning for Performance diagnostics\n",
            "Scanning for Screen diagnostics\n",
            "Scanning for Tracked particle diagnostics\n",
            "Loaded simulation 'plasma_collision_2\\1_procs'\n",
            "Scanning for Scalar diagnostics\n",
            "Scanning for Field diagnostics\n",
            "Scanning for Probe diagnostics\n",
            "Scanning for ParticleBinning diagnostics\n",
            "Scanning for RadiationSpectrum diagnostics\n",
            "Scanning for Performance diagnostics\n",
            "Scanning for Screen diagnostics\n",
            "Scanning for Tracked particle diagnostics\n",
            "WARNING: units unknown: seconds\n",
            "[1.0]\n",
            "Loaded simulation 'plasma_collision_2\\4_procs'\n",
            "Scanning for Scalar diagnostics\n",
            "Scanning for Field diagnostics\n",
            "Scanning for Probe diagnostics\n",
            "Scanning for ParticleBinning diagnostics\n",
            "Scanning for RadiationSpectrum diagnostics\n",
            "Scanning for Performance diagnostics\n",
            "Scanning for Screen diagnostics\n",
            "Scanning for Tracked particle diagnostics\n",
            "WARNING: units unknown: seconds\n",
            "[1.0, 0.5537264309409168]\n",
            "Loaded simulation 'plasma_collision_2\\8_procs'\n",
            "Scanning for Scalar diagnostics\n",
            "Scanning for Field diagnostics\n",
            "Scanning for Probe diagnostics\n",
            "Scanning for ParticleBinning diagnostics\n",
            "Scanning for RadiationSpectrum diagnostics\n",
            "Scanning for Performance diagnostics\n",
            "Scanning for Screen diagnostics\n",
            "Scanning for Tracked particle diagnostics\n",
            "WARNING: units unknown: seconds\n",
            "[1.0, 0.5537264309409168, 0.42775479635014063]\n",
            "Loaded simulation 'plasma_collision_2\\16_procs'\n",
            "Scanning for Scalar diagnostics\n",
            "Scanning for Field diagnostics\n",
            "Scanning for Probe diagnostics\n",
            "Scanning for ParticleBinning diagnostics\n",
            "Scanning for RadiationSpectrum diagnostics\n",
            "Scanning for Performance diagnostics\n",
            "Scanning for Screen diagnostics\n",
            "Scanning for Tracked particle diagnostics\n",
            "WARNING: units unknown: seconds\n",
            "[1.0, 0.5537264309409168, 0.42775479635014063, 0.3500378106708564]\n",
            "Loaded simulation 'plasma_collision_2\\32_procs'\n",
            "Scanning for Scalar diagnostics\n",
            "Scanning for Field diagnostics\n",
            "Scanning for Probe diagnostics\n",
            "Scanning for ParticleBinning diagnostics\n",
            "Scanning for RadiationSpectrum diagnostics\n",
            "Scanning for Performance diagnostics\n",
            "Scanning for Screen diagnostics\n",
            "Scanning for Tracked particle diagnostics\n",
            "WARNING: units unknown: seconds\n",
            "[1.0, 0.5537264309409168, 0.42775479635014063, 0.3500378106708564, 0.28058160916764685]\n"
          ],
          "name": "stdout"
        },
        {
          "output_type": "display_data",
          "data": {
            "text/plain": [
              "<Figure size 432x288 with 1 Axes>"
            ],
            "image/png": "[encoded data removed]"
          },
          "metadata": {
            "tags": [],
            "needs_background": "light"
          }
        },
        {
          "output_type": "display_data",
          "data": {
            "text/plain": [
              "<Figure size 432x288 with 1 Axes>"
            ],
            "image/png": "[encoded data removed]"
          },
          "metadata": {
            "tags": [],
            "needs_background": "light"
          }
        },
        {
          "output_type": "stream",
          "text": [
            "Loaded simulation 'C:\\Users\\fucce\\Desktop\\CPD\\1proceso\\Smilei-benchmarks-main\\plasma_collision_2\\1_procs'\n",
            "Scanning for Scalar diagnostics\n",
            "Scanning for Field diagnostics\n",
            "Scanning for Probe diagnostics\n",
            "Scanning for ParticleBinning diagnostics\n",
            "Scanning for RadiationSpectrum diagnostics\n",
            "Scanning for Performance diagnostics\n",
            "Scanning for Screen diagnostics\n",
            "Scanning for Tracked particle diagnostics\n",
            "Loaded simulation 'C:\\Users\\fucce\\Desktop\\CPD\\1proceso\\Smilei-benchmarks-main\\plasma_collision_2\\4_procs'\n",
            "Scanning for Scalar diagnostics\n",
            "Scanning for Field diagnostics\n",
            "Scanning for Probe diagnostics\n",
            "Scanning for ParticleBinning diagnostics\n",
            "Scanning for RadiationSpectrum diagnostics\n",
            "Scanning for Performance diagnostics\n",
            "Scanning for Screen diagnostics\n",
            "Scanning for Tracked particle diagnostics\n",
            "Loaded simulation 'C:\\Users\\fucce\\Desktop\\CPD\\1proceso\\Smilei-benchmarks-main\\plasma_collision_2\\8_procs'\n",
            "Scanning for Scalar diagnostics\n",
            "Scanning for Field diagnostics\n",
            "Scanning for Probe diagnostics\n",
            "Scanning for ParticleBinning diagnostics\n",
            "Scanning for RadiationSpectrum diagnostics\n",
            "Scanning for Performance diagnostics\n",
            "Scanning for Screen diagnostics\n",
            "Scanning for Tracked particle diagnostics\n",
            "Loaded simulation 'C:\\Users\\fucce\\Desktop\\CPD\\1proceso\\Smilei-benchmarks-main\\plasma_collision_2\\16_procs'\n",
            "Scanning for Scalar diagnostics\n",
            "Scanning for Field diagnostics\n",
            "Scanning for Probe diagnostics\n",
            "Scanning for ParticleBinning diagnostics\n",
            "Scanning for RadiationSpectrum diagnostics\n",
            "Scanning for Performance diagnostics\n",
            "Scanning for Screen diagnostics\n",
            "Scanning for Tracked particle diagnostics\n",
            "Loaded simulation 'C:\\Users\\fucce\\Desktop\\CPD\\1proceso\\Smilei-benchmarks-main\\plasma_collision_2\\32_procs'\n",
            "Scanning for Scalar diagnostics\n",
            "Scanning for Field diagnostics\n",
            "Scanning for Probe diagnostics\n",
            "Scanning for ParticleBinning diagnostics\n",
            "Scanning for RadiationSpectrum diagnostics\n",
            "Scanning for Performance diagnostics\n",
            "Scanning for Screen diagnostics\n",
            "Scanning for Tracked particle diagnostics\n",
            "Loaded simulation 'plasma_collision_3\\1_procs'\n",
            "Scanning for Scalar diagnostics\n",
            "Scanning for Field diagnostics\n",
            "Scanning for Probe diagnostics\n",
            "Scanning for ParticleBinning diagnostics\n",
            "Scanning for RadiationSpectrum diagnostics\n",
            "Scanning for Performance diagnostics\n",
            "Scanning for Screen diagnostics\n",
            "Scanning for Tracked particle diagnostics\n",
            "WARNING: units unknown: seconds\n",
            "[1.0]\n",
            "Loaded simulation 'plasma_collision_3\\4_procs'\n",
            "Scanning for Scalar diagnostics\n",
            "Scanning for Field diagnostics\n",
            "Scanning for Probe diagnostics\n",
            "Scanning for ParticleBinning diagnostics\n",
            "Scanning for RadiationSpectrum diagnostics\n",
            "Scanning for Performance diagnostics\n",
            "Scanning for Screen diagnostics\n",
            "Scanning for Tracked particle diagnostics\n",
            "WARNING: units unknown: seconds\n",
            "[1.0, 0.5617910003431394]\n",
            "Loaded simulation 'plasma_collision_3\\8_procs'\n",
            "Scanning for Scalar diagnostics\n",
            "Scanning for Field diagnostics\n",
            "Scanning for Probe diagnostics\n",
            "Scanning for ParticleBinning diagnostics\n",
            "Scanning for RadiationSpectrum diagnostics\n",
            "Scanning for Performance diagnostics\n",
            "Scanning for Screen diagnostics\n",
            "Scanning for Tracked particle diagnostics\n",
            "WARNING: units unknown: seconds\n",
            "[1.0, 0.5617910003431394, 0.4170689520204881]\n",
            "Loaded simulation 'plasma_collision_3\\16_procs'\n",
            "Scanning for Scalar diagnostics\n",
            "Scanning for Field diagnostics\n",
            "Scanning for Probe diagnostics\n",
            "Scanning for ParticleBinning diagnostics\n",
            "Scanning for RadiationSpectrum diagnostics\n",
            "Scanning for Performance diagnostics\n",
            "Scanning for Screen diagnostics\n",
            "Scanning for Tracked particle diagnostics\n",
            "WARNING: units unknown: seconds\n",
            "[1.0, 0.5617910003431394, 0.4170689520204881, 0.329144576117417]\n",
            "Loaded simulation 'plasma_collision_3\\32_procs'\n",
            "Scanning for Scalar diagnostics\n",
            "Scanning for Field diagnostics\n",
            "Scanning for Probe diagnostics\n",
            "Scanning for ParticleBinning diagnostics\n",
            "Scanning for RadiationSpectrum diagnostics\n",
            "Scanning for Performance diagnostics\n",
            "Scanning for Screen diagnostics\n",
            "Scanning for Tracked particle diagnostics\n",
            "WARNING: units unknown: seconds\n",
            "[1.0, 0.5617910003431394, 0.4170689520204881, 0.329144576117417, 0.3431896388530654]\n"
          ],
          "name": "stdout"
        },
        {
          "output_type": "display_data",
          "data": {
            "text/plain": [
              "<Figure size 432x288 with 1 Axes>"
            ],
            "image/png": "[encoded data removed]"
          },
          "metadata": {
            "tags": [],
            "needs_background": "light"
          }
        },
        {
          "output_type": "display_data",
          "data": {
            "text/plain": [
              "<Figure size 432x288 with 1 Axes>"
            ],
            "image/png": "[encoded data removed]"
          },
          "metadata": {
            "tags": [],
            "needs_background": "light"
          }
        },
        {
          "output_type": "stream",
          "text": [
            "Loaded simulation 'C:\\Users\\fucce\\Desktop\\CPD\\1proceso\\Smilei-benchmarks-main\\plasma_collision_3\\1_procs'\n",
            "Scanning for Scalar diagnostics\n",
            "Scanning for Field diagnostics\n",
            "Scanning for Probe diagnostics\n",
            "Scanning for ParticleBinning diagnostics\n",
            "Scanning for RadiationSpectrum diagnostics\n",
            "Scanning for Performance diagnostics\n",
            "Scanning for Screen diagnostics\n",
            "Scanning for Tracked particle diagnostics\n",
            "Loaded simulation 'C:\\Users\\fucce\\Desktop\\CPD\\1proceso\\Smilei-benchmarks-main\\plasma_collision_3\\4_procs'\n",
            "Scanning for Scalar diagnostics\n",
            "Scanning for Field diagnostics\n",
            "Scanning for Probe diagnostics\n",
            "Scanning for ParticleBinning diagnostics\n",
            "Scanning for RadiationSpectrum diagnostics\n",
            "Scanning for Performance diagnostics\n",
            "Scanning for Screen diagnostics\n",
            "Scanning for Tracked particle diagnostics\n",
            "Loaded simulation 'C:\\Users\\fucce\\Desktop\\CPD\\1proceso\\Smilei-benchmarks-main\\plasma_collision_3\\8_procs'\n",
            "Scanning for Scalar diagnostics\n",
            "Scanning for Field diagnostics\n",
            "Scanning for Probe diagnostics\n",
            "Scanning for ParticleBinning diagnostics\n",
            "Scanning for RadiationSpectrum diagnostics\n",
            "Scanning for Performance diagnostics\n",
            "Scanning for Screen diagnostics\n",
            "Scanning for Tracked particle diagnostics\n",
            "Loaded simulation 'C:\\Users\\fucce\\Desktop\\CPD\\1proceso\\Smilei-benchmarks-main\\plasma_collision_3\\16_procs'\n",
            "Scanning for Scalar diagnostics\n",
            "Scanning for Field diagnostics\n",
            "Scanning for Probe diagnostics\n",
            "Scanning for ParticleBinning diagnostics\n",
            "Scanning for RadiationSpectrum diagnostics\n",
            "Scanning for Performance diagnostics\n",
            "Scanning for Screen diagnostics\n",
            "Scanning for Tracked particle diagnostics\n",
            "Loaded simulation 'C:\\Users\\fucce\\Desktop\\CPD\\1proceso\\Smilei-benchmarks-main\\plasma_collision_3\\32_procs'\n",
            "Scanning for Scalar diagnostics\n",
            "Scanning for Field diagnostics\n",
            "Scanning for Probe diagnostics\n",
            "Scanning for ParticleBinning diagnostics\n",
            "Scanning for RadiationSpectrum diagnostics\n",
            "Scanning for Performance diagnostics\n",
            "Scanning for Screen diagnostics\n",
            "Scanning for Tracked particle diagnostics\n",
            "Loaded simulation 'plasma_collision_4\\1_procs'\n",
            "Scanning for Scalar diagnostics\n",
            "Scanning for Field diagnostics\n",
            "Scanning for Probe diagnostics\n",
            "Scanning for ParticleBinning diagnostics\n",
            "Scanning for RadiationSpectrum diagnostics\n",
            "Scanning for Performance diagnostics\n",
            "Scanning for Screen diagnostics\n",
            "Scanning for Tracked particle diagnostics\n",
            "WARNING: units unknown: seconds\n",
            "[1.0]\n",
            "Loaded simulation 'plasma_collision_4\\4_procs'\n",
            "Scanning for Scalar diagnostics\n",
            "Scanning for Field diagnostics\n",
            "Scanning for Probe diagnostics\n",
            "Scanning for ParticleBinning diagnostics\n",
            "Scanning for RadiationSpectrum diagnostics\n",
            "Scanning for Performance diagnostics\n",
            "Scanning for Screen diagnostics\n",
            "Scanning for Tracked particle diagnostics\n",
            "WARNING: units unknown: seconds\n",
            "[1.0, 0.5632751896417009]\n",
            "Loaded simulation 'plasma_collision_4\\8_procs'\n",
            "Scanning for Scalar diagnostics\n",
            "Scanning for Field diagnostics\n",
            "Scanning for Probe diagnostics\n",
            "Scanning for ParticleBinning diagnostics\n",
            "Scanning for RadiationSpectrum diagnostics\n",
            "Scanning for Performance diagnostics\n",
            "Scanning for Screen diagnostics\n",
            "Scanning for Tracked particle diagnostics\n",
            "WARNING: units unknown: seconds\n",
            "[1.0, 0.5632751896417009, 0.4155452289917981]\n",
            "Loaded simulation 'plasma_collision_4\\16_procs'\n",
            "Scanning for Scalar diagnostics\n",
            "Scanning for Field diagnostics\n",
            "Scanning for Probe diagnostics\n",
            "Scanning for ParticleBinning diagnostics\n",
            "Scanning for RadiationSpectrum diagnostics\n",
            "Scanning for Performance diagnostics\n",
            "Scanning for Screen diagnostics\n",
            "Scanning for Tracked particle diagnostics\n",
            "WARNING: units unknown: seconds\n",
            "[1.0, 0.5632751896417009, 0.4155452289917981, 0.33978970054089663]\n",
            "Loaded simulation 'plasma_collision_4\\32_procs'\n",
            "Scanning for Scalar diagnostics\n",
            "Scanning for Field diagnostics\n",
            "Scanning for Probe diagnostics\n",
            "Scanning for ParticleBinning diagnostics\n",
            "Scanning for RadiationSpectrum diagnostics\n",
            "Scanning for Performance diagnostics\n",
            "Scanning for Screen diagnostics\n",
            "Scanning for Tracked particle diagnostics\n",
            "WARNING: units unknown: seconds\n",
            "[1.0, 0.5632751896417009, 0.4155452289917981, 0.33978970054089663, 0.3448468524340247]\n"
          ],
          "name": "stdout"
        },
        {
          "output_type": "display_data",
          "data": {
            "text/plain": [
              "<Figure size 432x288 with 1 Axes>"
            ],
            "image/png": "[encoded data removed]"
          },
          "metadata": {
            "tags": [],
            "needs_background": "light"
          }
        },
        {
          "output_type": "display_data",
          "data": {
            "text/plain": [
              "<Figure size 432x288 with 1 Axes>"
            ],
            "image/png": "[encoded data removed]"
          },
          "metadata": {
            "tags": [],
            "needs_background": "light"
          }
        },
        {
          "output_type": "stream",
          "text": [
            "Loaded simulation 'C:\\Users\\fucce\\Desktop\\CPD\\1proceso\\Smilei-benchmarks-main\\plasma_collision_4\\1_procs'\n",
            "Scanning for Scalar diagnostics\n",
            "Scanning for Field diagnostics\n",
            "Scanning for Probe diagnostics\n",
            "Scanning for ParticleBinning diagnostics\n",
            "Scanning for RadiationSpectrum diagnostics\n",
            "Scanning for Performance diagnostics\n",
            "Scanning for Screen diagnostics\n",
            "Scanning for Tracked particle diagnostics\n",
            "Loaded simulation 'C:\\Users\\fucce\\Desktop\\CPD\\1proceso\\Smilei-benchmarks-main\\plasma_collision_4\\4_procs'\n",
            "Scanning for Scalar diagnostics\n",
            "Scanning for Field diagnostics\n",
            "Scanning for Probe diagnostics\n",
            "Scanning for ParticleBinning diagnostics\n",
            "Scanning for RadiationSpectrum diagnostics\n",
            "Scanning for Performance diagnostics\n",
            "Scanning for Screen diagnostics\n",
            "Scanning for Tracked particle diagnostics\n",
            "Loaded simulation 'C:\\Users\\fucce\\Desktop\\CPD\\1proceso\\Smilei-benchmarks-main\\plasma_collision_4\\8_procs'\n",
            "Scanning for Scalar diagnostics\n",
            "Scanning for Field diagnostics\n",
            "Scanning for Probe diagnostics\n",
            "Scanning for ParticleBinning diagnostics\n",
            "Scanning for RadiationSpectrum diagnostics\n",
            "Scanning for Performance diagnostics\n",
            "Scanning for Screen diagnostics\n",
            "Scanning for Tracked particle diagnostics\n",
            "Loaded simulation 'C:\\Users\\fucce\\Desktop\\CPD\\1proceso\\Smilei-benchmarks-main\\plasma_collision_4\\16_procs'\n",
            "Scanning for Scalar diagnostics\n",
            "Scanning for Field diagnostics\n",
            "Scanning for Probe diagnostics\n",
            "Scanning for ParticleBinning diagnostics\n",
            "Scanning for RadiationSpectrum diagnostics\n",
            "Scanning for Performance diagnostics\n",
            "Scanning for Screen diagnostics\n",
            "Scanning for Tracked particle diagnostics\n",
            "Loaded simulation 'C:\\Users\\fucce\\Desktop\\CPD\\1proceso\\Smilei-benchmarks-main\\plasma_collision_4\\32_procs'\n",
            "Scanning for Scalar diagnostics\n",
            "Scanning for Field diagnostics\n",
            "Scanning for Probe diagnostics\n",
            "Scanning for ParticleBinning diagnostics\n",
            "Scanning for RadiationSpectrum diagnostics\n",
            "Scanning for Performance diagnostics\n",
            "Scanning for Screen diagnostics\n",
            "Scanning for Tracked particle diagnostics\n"
          ],
          "name": "stdout"
        }
      ]
    },
    {
      "cell_type": "code",
      "metadata": {
        "id": "rHq8mGV0fcSL"
      },
      "source": [
        "%%capture\n",
        "diag = S.Performances(raw=\"number_of_cells\")\n",
        "diag.animate(cmap=\"smilei\", movie=f\"number_of_cells.mp4\")"
      ],
      "execution_count": null,
      "outputs": []
    },
    {
      "cell_type": "code",
      "metadata": {
        "cellView": "form",
        "id": "VmGjsygEffZB"
      },
      "source": [
        "#@title Number of cells\n",
        "subprocess.run(f\"ffmpeg -i {'number_of_cells.mp4'} -vcodec libx264 {'compressed_number_of_cells.mp4'}\".split(), capture_output=True)\n",
        "mp4 = open('compressed_number_of_cells.mp4','rb').read()\n",
        "data_url = \"data:video/mp4;base64,\" + b64encode(mp4).decode()\n",
        "HTML(\"\"\"\n",
        "<video width=400 controls>\n",
        "  <source src=\"%s\" type=\"video/mp4\">\n",
        "</video>\n",
        "\"\"\" % data_url)"
      ],
      "execution_count": null,
      "outputs": []
    },
    {
      "cell_type": "code",
      "metadata": {
        "id": "sC-4C4hS3DiW"
      },
      "source": [
        "%%capture\n",
        "diag = S.Performances(raw=\"number_of_particles\")\n",
        "diag.animate(cmap=\"smilei\", movie=f\"number_of_particles.mp4\")"
      ],
      "execution_count": null,
      "outputs": []
    },
    {
      "cell_type": "code",
      "metadata": {
        "id": "21IvxqNRMDaO"
      },
      "source": [
        ""
      ],
      "execution_count": null,
      "outputs": []
    },
    {
      "cell_type": "code",
      "metadata": {
        "cellView": "form",
        "id": "3d9eC5Jo3tdm"
      },
      "source": [
        "#@title Number of particles\n",
        "subprocess.run(f\"ffmpeg -i {'number_of_particles.mp4'} -vcodec libx264 {'compressed_number_of_particles.mp4'}\".split(), capture_output=True)\n",
        "mp4 = open('compressed_number_of_particles.mp4','rb').read()\n",
        "data_url = \"data:video/mp4;base64,\" + b64encode(mp4).decode()\n",
        "HTML(\"\"\"\n",
        "<video width=400 controls>\n",
        "  <source src=\"%s\" type=\"video/mp4\">\n",
        "</video>\n",
        "\"\"\" % data_url)"
      ],
      "execution_count": null,
      "outputs": []
    },
    {
      "cell_type": "code",
      "metadata": {
        "id": "Uz-c3AqUx1Qf"
      },
      "source": [
        "%%capture\n",
        "diag = S.Performances(raw=\"timer_particles\")\n",
        "diag.animate(cmap=\"smilei\", movie=f\"timer_particles.mp4\")"
      ],
      "execution_count": null,
      "outputs": []
    },
    {
      "cell_type": "code",
      "metadata": {
        "cellView": "form",
        "id": "rJLB5Sj9ynVx"
      },
      "source": [
        "#@title Timer particles\n",
        "subprocess.run(f\"ffmpeg -i {'timer_particles.mp4'} -vcodec libx264 {'compressed_timer_particles.mp4'}\".split(), capture_output=True)\n",
        "mp4 = open('compressed_timer_particles.mp4','rb').read()\n",
        "data_url = \"data:video/mp4;base64,\" + b64encode(mp4).decode()\n",
        "HTML(\"\"\"\n",
        "<video width=400 controls>\n",
        "  <source src=\"%s\" type=\"video/mp4\">\n",
        "</video>\n",
        "\"\"\" % data_url)"
      ],
      "execution_count": null,
      "outputs": []
    },
    {
      "cell_type": "code",
      "metadata": {
        "id": "uL3WzVyisybk"
      },
      "source": [
        "%%capture\n",
        "diag = S.Performances(raw=\"timer_maxwell\")\n",
        "diag.animate(cmap=\"smilei\", movie=f\"timer_maxwell.mp4\")"
      ],
      "execution_count": null,
      "outputs": []
    },
    {
      "cell_type": "code",
      "metadata": {
        "cellView": "form",
        "id": "b6HVLI5Y09vj"
      },
      "source": [
        "#@title Timer Maxwell\n",
        "subprocess.run(f\"ffmpeg -i {'timer_maxwell.mp4'} -vcodec libx264 {'compressed_timer_maxwell.mp4'}\".split(), capture_output=True)\n",
        "mp4 = open('compressed_timer_maxwell.mp4','rb').read()\n",
        "data_url = \"data:video/mp4;base64,\" + b64encode(mp4).decode()\n",
        "HTML(\"\"\"\n",
        "<video width=400 controls>\n",
        "  <source src=\"%s\" type=\"video/mp4\">\n",
        "</video>\n",
        "\"\"\" % data_url)"
      ],
      "execution_count": null,
      "outputs": []
    },
    {
      "cell_type": "code",
      "metadata": {
        "id": "PSXYqAUnv02R"
      },
      "source": [
        "%%capture\n",
        "diag = S.Performances(raw=\"timer_densities\")\n",
        "diag.animate(cmap=\"smilei\", movie=f\"timer_densities.mp4\")"
      ],
      "execution_count": null,
      "outputs": []
    },
    {
      "cell_type": "code",
      "metadata": {
        "cellView": "form",
        "id": "eckC9HH-1cTP"
      },
      "source": [
        "#@title Timer densities\n",
        "subprocess.run(f\"ffmpeg -i {'timer_densities.mp4'} -vcodec libx264 {'compressed_timer_densities.mp4'}\".split(), capture_output=True)\n",
        "mp4 = open('compressed_timer_densities.mp4','rb').read()\n",
        "data_url = \"data:video/mp4;base64,\" + b64encode(mp4).decode()\n",
        "HTML(\"\"\"\n",
        "<video width=400 controls>\n",
        "  <source src=\"%s\" type=\"video/mp4\">\n",
        "</video>\n",
        "\"\"\" % data_url)"
      ],
      "execution_count": null,
      "outputs": []
    },
    {
      "cell_type": "code",
      "metadata": {
        "id": "GSUtc9WewDAi"
      },
      "source": [
        "%%capture\n",
        "diag = S.Performances(raw=\"timer_collisions\")\n",
        "diag.animate(cmap=\"smilei\", movie=f\"timer_collisions.mp4\")"
      ],
      "execution_count": null,
      "outputs": []
    },
    {
      "cell_type": "code",
      "metadata": {
        "cellView": "form",
        "id": "3ANn6Qst2pjH"
      },
      "source": [
        "#@title Timer collisions\n",
        "subprocess.run(f\"ffmpeg -i {'timer_collisions.mp4'} -vcodec libx264 {'compressed_timer_collisions.mp4'}\".split(), capture_output=True)\n",
        "mp4 = open('compressed_timer_collisions.mp4','rb').read()\n",
        "data_url = \"data:video/mp4;base64,\" + b64encode(mp4).decode()\n",
        "HTML(\"\"\"\n",
        "<video width=400 controls>\n",
        "  <source src=\"%s\" type=\"video/mp4\">\n",
        "</video>\n",
        "\"\"\" % data_url)"
      ],
      "execution_count": null,
      "outputs": []
    },
    {
      "cell_type": "code",
      "metadata": {
        "id": "3hKM1SoL24sA"
      },
      "source": [
        "%%capture\n",
        "diag = S.Performances(raw=\"timer_movWindow\")\n",
        "diag.animate(cmap=\"smilei\", movie=f\"timer_mov_window.mp4\")"
      ],
      "execution_count": null,
      "outputs": []
    },
    {
      "cell_type": "code",
      "metadata": {
        "cellView": "form",
        "id": "1KSmRycr4WYV"
      },
      "source": [
        "#@title Timer moving window\n",
        "subprocess.run(f\"ffmpeg -i {'timer_mov_window.mp4'} -vcodec libx264 {'compressed_timer_mov_window.mp4'}\".split(), capture_output=True)\n",
        "mp4 = open('compressed_timer_mov_window.mp4','rb').read()\n",
        "data_url = \"data:video/mp4;base64,\" + b64encode(mp4).decode()\n",
        "HTML(\"\"\"\n",
        "<video width=400 controls>\n",
        "  <source src=\"%s\" type=\"video/mp4\">\n",
        "</video>\n",
        "\"\"\" % data_url)"
      ],
      "execution_count": null,
      "outputs": []
    },
    {
      "cell_type": "code",
      "metadata": {
        "id": "oeHLlCR44pAj"
      },
      "source": [
        "%%capture\n",
        "diag = S.Performances(raw=\"timer_loadBal\")\n",
        "diag.animate(cmap=\"smilei\", movie=f\"timer_load_balancing.mp4\")"
      ],
      "execution_count": null,
      "outputs": []
    },
    {
      "cell_type": "code",
      "metadata": {
        "cellView": "form",
        "id": "7HJK62XB4tvs"
      },
      "source": [
        "#@title Timer load balancing\n",
        "subprocess.run(f\"ffmpeg -i {'timer_load_balancing.mp4'} -vcodec libx264 {'compressed_timer_load_balacing.mp4'}\".split(), capture_output=True)\n",
        "mp4 = open('compressed_timer_load_balacing.mp4','rb').read()\n",
        "data_url = \"data:video/mp4;base64,\" + b64encode(mp4).decode()\n",
        "HTML(\"\"\"\n",
        "<video width=400 controls>\n",
        "  <source src=\"%s\" type=\"video/mp4\">\n",
        "</video>\n",
        "\"\"\" % data_url)"
      ],
      "execution_count": null,
      "outputs": []
    },
    {
      "cell_type": "code",
      "metadata": {
        "id": "VClFCrpe5BRD"
      },
      "source": [
        "%%capture\n",
        "diag = S.Performances(raw=\"timer_syncPart\")\n",
        "diag.animate(cmap=\"smilei\", movie=f\"timer_synch_particles.mp4\")"
      ],
      "execution_count": null,
      "outputs": []
    },
    {
      "cell_type": "code",
      "metadata": {
        "cellView": "form",
        "id": "z5rSarxU5IYp"
      },
      "source": [
        "#@title Timer synch particles\n",
        "subprocess.run(f\"ffmpeg -i {'timer_synch_particles.mp4'} -vcodec libx264 {'compressed_timer_synch_particles.mp4'}\".split(), capture_output=True)\n",
        "mp4 = open('compressed_timer_synch_particles.mp4','rb').read()\n",
        "data_url = \"data:video/mp4;base64,\" + b64encode(mp4).decode()\n",
        "HTML(\"\"\"\n",
        "<video width=400 controls>\n",
        "  <source src=\"%s\" type=\"video/mp4\">\n",
        "</video>\n",
        "\"\"\" % data_url)"
      ],
      "execution_count": null,
      "outputs": []
    },
    {
      "cell_type": "code",
      "metadata": {
        "id": "n0g3BtbR5VCv"
      },
      "source": [
        "%%capture\n",
        "diag = S.Performances(raw=\"timer_syncField\")\n",
        "diag.animate(cmap=\"smilei\", movie=f\"timer_synch_field.mp4\")"
      ],
      "execution_count": null,
      "outputs": []
    },
    {
      "cell_type": "code",
      "metadata": {
        "cellView": "form",
        "id": "welt2Njz5bT7"
      },
      "source": [
        "#@title Timer synch field\n",
        "subprocess.run(f\"ffmpeg -i {'timer_synch_field.mp4'} -vcodec libx264 {'compressed_timer_synch_field.mp4'}\".split(), capture_output=True)\n",
        "mp4 = open('compressed_timer_synch_field.mp4','rb').read()\n",
        "data_url = \"data:video/mp4;base64,\" + b64encode(mp4).decode()\n",
        "HTML(\"\"\"\n",
        "<video width=400 controls>\n",
        "  <source src=\"%s\" type=\"video/mp4\">\n",
        "</video>\n",
        "\"\"\" % data_url)"
      ],
      "execution_count": null,
      "outputs": []
    },
    {
      "cell_type": "code",
      "metadata": {
        "id": "f2-egddS5oUs"
      },
      "source": [
        "%%capture\n",
        "diag = S.Performances(raw=\"timer_syncDens\")\n",
        "diag.animate(cmap=\"smilei\", movie=f\"timer_synch_dens.mp4\")"
      ],
      "execution_count": null,
      "outputs": []
    },
    {
      "cell_type": "code",
      "metadata": {
        "cellView": "form",
        "id": "6NMFsO0d5t-p"
      },
      "source": [
        "#@title Timer synch densities\n",
        "subprocess.run(f\"ffmpeg -i {'timer_synch_dens.mp4'} -vcodec libx264 {'compressed_timer_synch_dens.mp4'}\".split(), capture_output=True)\n",
        "mp4 = open('compressed_timer_synch_dens.mp4','rb').read()\n",
        "data_url = \"data:video/mp4;base64,\" + b64encode(mp4).decode()\n",
        "HTML(\"\"\"\n",
        "<video width=400 controls>\n",
        "  <source src=\"%s\" type=\"video/mp4\">\n",
        "</video>\n",
        "\"\"\" % data_url)"
      ],
      "execution_count": null,
      "outputs": []
    },
    {
      "cell_type": "code",
      "metadata": {
        "id": "IW1sRTX16JUS"
      },
      "source": [
        "%%capture\n",
        "diag = S.Performances(raw=\"timer_diags\")\n",
        "diag.animate(cmap=\"smilei\", movie=f\"timer_diags.mp4\")"
      ],
      "execution_count": null,
      "outputs": []
    },
    {
      "cell_type": "code",
      "metadata": {
        "cellView": "form",
        "id": "aARMCcz56M_N"
      },
      "source": [
        "#@title Timer diags\n",
        "subprocess.run(f\"ffmpeg -i {'timer_diags.mp4'} -vcodec libx264 {'compressed_timer_diags.mp4'}\".split(), capture_output=True)\n",
        "mp4 = open('compressed_timer_diags.mp4','rb').read()\n",
        "data_url = \"data:video/mp4;base64,\" + b64encode(mp4).decode()\n",
        "HTML(\"\"\"\n",
        "<video width=400 controls>\n",
        "  <source src=\"%s\" type=\"video/mp4\">\n",
        "</video>\n",
        "\"\"\" % data_url)"
      ],
      "execution_count": null,
      "outputs": []
    },
    {
      "cell_type": "code",
      "metadata": {
        "id": "8P4rj4If6UXX"
      },
      "source": [
        "%%capture\n",
        "diag = S.Performances(raw=\"timer_total\")\n",
        "diag.animate(cmap=\"smilei\", movie=f\"timer_total.mp4\")"
      ],
      "execution_count": null,
      "outputs": []
    },
    {
      "cell_type": "code",
      "metadata": {
        "cellView": "form",
        "id": "R4YwQORFCAjo"
      },
      "source": [
        "#@title Timer total\n",
        "subprocess.run(f\"ffmpeg -i {'timer_total.mp4'} -vcodec libx264 {'compressed_timer_total.mp4'}\".split(), capture_output=True)\n",
        "mp4 = open('compressed_timer_total.mp4','rb').read()\n",
        "data_url = \"data:video/mp4;base64,\" + b64encode(mp4).decode()\n",
        "HTML(\"\"\"\n",
        "<video width=400 controls>\n",
        "  <source src=\"%s\" type=\"video/mp4\">\n",
        "</video>\n",
        "\"\"\" % data_url)"
      ],
      "execution_count": null,
      "outputs": []
    },
    {
      "cell_type": "code",
      "metadata": {
        "id": "OMkTycIJuwvv"
      },
      "source": [
        "diag = S.Performances(raw=\"number_of_particles\")"
      ],
      "execution_count": null,
      "outputs": []
    },
    {
      "cell_type": "code",
      "metadata": {
        "id": "HbdzHs8xvGYK"
      },
      "source": [
        "diag.getTimesteps()"
      ],
      "execution_count": null,
      "outputs": []
    },
    {
      "cell_type": "code",
      "metadata": {
        "id": "Z_RBjORrviUy"
      },
      "source": [
        "diag.plot(2220)"
      ],
      "execution_count": null,
      "outputs": []
    },
    {
      "cell_type": "code",
      "metadata": {
        "id": "dvgK9mOzv9hY"
      },
      "source": [
        "diag.getData(2220)"
      ],
      "execution_count": null,
      "outputs": []
    },
    {
      "cell_type": "code",
      "metadata": {
        "id": "RiIMjO7CwR_T"
      },
      "source": [
        ""
      ],
      "execution_count": null,
      "outputs": []
    }
  ]
}